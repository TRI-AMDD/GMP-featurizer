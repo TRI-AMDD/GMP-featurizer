{
 "cells": [
  {
   "cell_type": "code",
   "execution_count": 1,
   "id": "79db481d",
   "metadata": {},
   "outputs": [],
   "source": [
    "import numpy as np\n",
    "from GMPFeaturizer import GMPFeaturizer\n",
    "import pickle\n",
    "with open(\"./example.p\", \"rb\") as f:\n",
    "    images = pickle.load(f)"
   ]
  },
  {
   "cell_type": "markdown",
   "id": "ad1192b8",
   "metadata": {},
   "source": [
    "## reference method: manually specify cutoff distance\n",
    "\n",
    "Quite slow but serves as the reference for accuracy"
   ]
  },
  {
   "cell_type": "code",
   "execution_count": 2,
   "id": "dafdc856",
   "metadata": {},
   "outputs": [],
   "source": [
    "#GMP hyperparameters\n",
    "GMP_order = 3\n",
    "nsigmas = 5\n",
    "width = 1.0\n",
    "\n",
    "\n",
    "# setup featurizer/calcualtor \n",
    "sigmas = np.round(np.linspace(0.0,width,nsigmas+1,endpoint=True),4)[1:]\n",
    "GMPs = {\n",
    "    \"GMPs\": {   \"orders\": [-1]+list(range(GMP_order+1)), \"sigmas\":sigmas   },\n",
    "    \"psp_path\": \"./NC-SR.gpsp\",\n",
    "    \"square\":False,\n",
    "    \"solid_harmonics\": True,\n",
    "    \"custom_cutoff\":-1,\n",
    "    \"cutoff\":40,\n",
    "}\n",
    "\n",
    "featurizer = GMPFeaturizer(GMPs=GMPs, calc_derivatives=False)"
   ]
  },
  {
   "cell_type": "code",
   "execution_count": 3,
   "id": "cae05991",
   "metadata": {},
   "outputs": [
    {
     "name": "stderr",
     "output_type": "stream",
     "text": [
      "2023-02-07 16:26:30,030\tINFO worker.py:1518 -- Started a local Ray instance.\n",
      "100%|█████████████████████████████████████████████████████████████████████████████████████████████████████████████████████████████████████████████████████████████████████| 100/100 [00:01<00:00, 96.76it/s]\n"
     ]
    }
   ],
   "source": [
    "features = featurizer.prepare_features(images, cores=5)"
   ]
  },
  {
   "cell_type": "markdown",
   "id": "b1218b13",
   "metadata": {},
   "source": [
    "### Fastest computation method (set as default)"
   ]
  },
  {
   "cell_type": "code",
   "execution_count": 4,
   "id": "7f2db10e",
   "metadata": {},
   "outputs": [],
   "source": [
    "#GMP hyperparameters\n",
    "GMP_order = 3\n",
    "nsigmas = 5\n",
    "width = 1.0\n",
    "\n",
    "\n",
    "# setup featurizer/calcualtor \n",
    "sigmas = np.round(np.linspace(0.0,width,nsigmas+1,endpoint=True),4)[1:]\n",
    "GMPs = {\n",
    "    \"GMPs\": {   \"orders\": [-1]+list(range(GMP_order+1)), \"sigmas\":sigmas   },\n",
    "    \"psp_path\": \"./NC-SR.gpsp\",\n",
    "    \"square\":False,\n",
    "    \"solid_harmonics\": True,\n",
    "    \"custom_cutoff\":4, # default\n",
    "    \"overlap_threshold\": 1e-16,\n",
    "}\n",
    "\n",
    "featurizer = GMPFeaturizer(GMPs=GMPs, calc_derivatives=False)\n"
   ]
  },
  {
   "cell_type": "code",
   "execution_count": 5,
   "id": "f33e5b2d",
   "metadata": {},
   "outputs": [
    {
     "name": "stderr",
     "output_type": "stream",
     "text": [
      "2023-02-07 16:26:36,190\tINFO worker.py:1518 -- Started a local Ray instance.\n",
      "100%|█████████████████████████████████████████████████████████████████████████████████████████████████████████████████████████████████████████████████████████████████████| 100/100 [00:01<00:00, 99.97it/s]\n"
     ]
    }
   ],
   "source": [
    "features = featurizer.prepare_features(images, cores=5)"
   ]
  },
  {
   "cell_type": "code",
   "execution_count": null,
   "id": "cf6dcd3f",
   "metadata": {},
   "outputs": [],
   "source": []
  }
 ],
 "metadata": {
  "kernelspec": {
   "display_name": "Python 3 (ipykernel)",
   "language": "python",
   "name": "python3"
  },
  "language_info": {
   "codemirror_mode": {
    "name": "ipython",
    "version": 3
   },
   "file_extension": ".py",
   "mimetype": "text/x-python",
   "name": "python",
   "nbconvert_exporter": "python",
   "pygments_lexer": "ipython3",
   "version": "3.8.13"
  }
 },
 "nbformat": 4,
 "nbformat_minor": 5
}
