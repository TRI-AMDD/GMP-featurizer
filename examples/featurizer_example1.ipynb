{
 "cells": [
  {
   "cell_type": "code",
   "execution_count": 1,
   "id": "79db481d",
   "metadata": {},
   "outputs": [],
   "source": [
    "import numpy as np\n",
    "from GMPFeaturizer import GMPFeaturizer\n",
    "import pickle\n",
    "with open(\"./example.p\", \"rb\") as f:\n",
    "    images = pickle.load(f)"
   ]
  },
  {
   "cell_type": "code",
   "execution_count": 2,
   "id": "dafdc856",
   "metadata": {},
   "outputs": [],
   "source": [
    "#GMP hyperparameters\n",
    "GMP_order = 3\n",
    "nsigmas = 5\n",
    "width = 1.0\n",
    "\n",
    "\n",
    "# setup featurizer/calcualtor \n",
    "sigmas = np.round(np.linspace(0.0,width,nsigmas+1,endpoint=True),4)[1:]\n",
    "GMPs = {\n",
    "    \"GMPs\": {   \"orders\": [-1]+list(range(GMP_order+1)), \"sigmas\":sigmas   },\n",
    "    \"psp_path\": \"/home/raylei/Documents/GMP-featurizer/pseudopotentials/NC-SR.gpsp\",\n",
    "    \"square\":False,\n",
    "    \"solid_harmonics\": True,\n",
    "}\n",
    "\n",
    "featurizer = GMPFeaturizer(GMPs=GMPs)"
   ]
  },
  {
   "cell_type": "code",
   "execution_count": 3,
   "id": "cae05991",
   "metadata": {},
   "outputs": [
    {
     "name": "stderr",
     "output_type": "stream",
     "text": [
      "Computing features: 100%|████████████████████| 100/100 [00:00<00:00, 533.06it/s]\n"
     ]
    }
   ],
   "source": [
    "features = featurizer.prepare_features(images)"
   ]
  },
  {
   "cell_type": "code",
   "execution_count": 6,
   "id": "e2a388dc",
   "metadata": {},
   "outputs": [
    {
     "data": {
      "text/plain": [
       "4"
      ]
     },
     "execution_count": 6,
     "metadata": {},
     "output_type": "execute_result"
    }
   ],
   "source": [
    "2**2"
   ]
  },
  {
   "cell_type": "code",
   "execution_count": null,
   "id": "2289c4ef",
   "metadata": {},
   "outputs": [],
   "source": []
  }
 ],
 "metadata": {
  "kernelspec": {
   "display_name": "Python 3 (ipykernel)",
   "language": "python",
   "name": "python3"
  },
  "language_info": {
   "codemirror_mode": {
    "name": "ipython",
    "version": 3
   },
   "file_extension": ".py",
   "mimetype": "text/x-python",
   "name": "python",
   "nbconvert_exporter": "python",
   "pygments_lexer": "ipython3",
   "version": "3.8.13"
  }
 },
 "nbformat": 4,
 "nbformat_minor": 5
}
