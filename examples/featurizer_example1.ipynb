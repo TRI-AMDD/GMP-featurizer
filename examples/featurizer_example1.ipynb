{
 "cells": [
  {
   "cell_type": "code",
   "execution_count": 1,
   "id": "79db481d",
   "metadata": {},
   "outputs": [],
   "source": [
    "import numpy as np\n",
    "from GMPFeaturizer import GMPFeaturizer\n",
    "import pickle\n",
    "with open(\"./example.p\", \"rb\") as f:\n",
    "    images = pickle.load(f)"
   ]
  },
  {
   "cell_type": "markdown",
   "id": "b1218b13",
   "metadata": {},
   "source": [
    "### Basic feature computation usage\n",
    "the list of features is the Cartesian product of orders and sigams (except for order -1, which correspond just local electron density, so different simgas does not matter. Thus, there is only one feature for order -1)\n",
    "\n",
    "\n",
    "with this setting, the list of features are\n",
    "\n",
    "[(-1, 0), (0, 0.1), (0, 0.2), (0, 0.3), (1, 0.1), (1, 0.2), (1, 0.3), (2, 0.1), (2, 0.2), (2, 0.3)]\n",
    "\n",
    "\n",
    "where the first number is the order of the MCSH angular probe, and the second number is the sigma of the Gaussian radial probe "
   ]
  },
  {
   "cell_type": "code",
   "execution_count": 2,
   "id": "987ffe0d",
   "metadata": {},
   "outputs": [],
   "source": [
    "GMPs = {\n",
    "    \"GMPs\": {   \n",
    "        \"orders\": [-1, 0, 1, 2], \n",
    "        \"sigmas\": [0.1, 0.2, 0.3]   \n",
    "    },\n",
    "    \"psp_path\": \"./NC-SR.gpsp\", # path to the pseudo potential file\n",
    "    \"overlap_threshold\": 1e-16, # basically the accuracy of the resulting features\n",
    "    # \"square\": False, # whether the features are squared, no need to change if you are not get the feature derivatives\n",
    "}"
   ]
  },
  {
   "cell_type": "code",
   "execution_count": 3,
   "id": "04fc5879",
   "metadata": {},
   "outputs": [
    {
     "name": "stderr",
     "output_type": "stream",
     "text": [
      "2023-02-08 17:32:07,453\tINFO worker.py:1518 -- Started a local Ray instance.\n",
      "100%|████████████████████████████████████████████████████████████████████████████████████████████████████████████████████████████████████████████████████████████████████| 100/100 [00:00<00:00, 123.81it/s]\n"
     ]
    }
   ],
   "source": [
    "featurizer1 = GMPFeaturizer(GMPs=GMPs, calc_derivatives=False)\n",
    "features1 = featurizer1.prepare_features(images, cores=5)"
   ]
  },
  {
   "cell_type": "code",
   "execution_count": 4,
   "id": "d36f510b",
   "metadata": {},
   "outputs": [
    {
     "name": "stdout",
     "output_type": "stream",
     "text": [
      "dict_keys(['features'])\n",
      "(11, 10)\n",
      "[[2.93183003e-01 9.60240782e-01 1.40524089e+00 1.31511761e+00\n",
      "  2.86230291e-03 1.26922803e-02 2.94398250e-02 6.66115305e-04\n",
      "  1.06882066e-02 4.78447126e-02]\n",
      " [2.96332206e-01 9.64242416e-01 1.41236217e+00 1.32908197e+00\n",
      "  2.74331782e-03 1.15191376e-02 2.40127868e-02 6.77798619e-04\n",
      "  1.11879872e-02 5.27952150e-02]\n",
      " [3.00427205e-01 9.67787622e-01 1.41685860e+00 1.34360709e+00\n",
      "  4.75936794e-05 2.24163133e-04 5.19144968e-04 1.89493491e-05\n",
      "  3.35811909e-04 1.69736826e-03]\n",
      " [2.96332022e-01 9.64242217e-01 1.41236192e+00 1.32908160e+00\n",
      "  2.74334381e-03 1.15192491e-02 2.40130429e-02 6.77798488e-04\n",
      "  1.11879799e-02 5.27951510e-02]\n",
      " [2.93183305e-01 9.60241095e-01 1.40524122e+00 1.31511795e+00\n",
      "  2.86231120e-03 1.26923119e-02 2.94398806e-02 6.66116750e-04\n",
      "  1.06882259e-02 4.78447713e-02]\n",
      " [3.16812563e-01 9.85417836e-01 1.43921041e+00 1.37097949e+00\n",
      "  4.14700294e-03 1.88684883e-02 4.64777708e-02 8.17514868e-04\n",
      "  1.51320434e-02 7.74136160e-02]\n",
      " [6.71012178e-01 2.23438069e+00 2.81466887e+00 2.28085888e+00\n",
      "  5.16077454e-03 2.20082682e-02 4.94198103e-02 6.14050570e-04\n",
      "  9.43807113e-03 3.93910581e-02]\n",
      " [3.16812413e-01 9.85417679e-01 1.43921023e+00 1.37097927e+00\n",
      "  4.14700716e-03 1.88685079e-02 4.64778208e-02 8.17514125e-04\n",
      "  1.51320304e-02 7.74135571e-02]\n",
      " [6.71012158e-01 2.23438067e+00 2.81466884e+00 2.28085885e+00\n",
      "  5.16077370e-03 2.20082650e-02 4.94198042e-02 6.14050473e-04\n",
      "  9.43806987e-03 3.93910541e-02]\n",
      " [1.48090677e+00 1.21402262e+00 8.60082754e-01 6.41696465e-01\n",
      "  7.41107052e-03 3.01544783e-02 6.31801140e-02 8.63211483e-04\n",
      "  1.23580406e-02 4.68576502e-02]\n",
      " [1.48090707e+00 1.21402293e+00 8.60083065e-01 6.41696756e-01\n",
      "  7.41108216e-03 3.01545188e-02 6.31801785e-02 8.63212711e-04\n",
      "  1.23580540e-02 4.68576809e-02]]\n"
     ]
    }
   ],
   "source": [
    "print(features1[0].keys())\n",
    "print(features1[0][\"features\"].shape)\n",
    "print(features1[0][\"features\"])"
   ]
  },
  {
   "cell_type": "markdown",
   "id": "fd1ab6c6",
   "metadata": {},
   "source": [
    "### Get feature derivative with respect to atom positions\n",
    "Note that the derivatives are stored in the form of sparse matrices"
   ]
  },
  {
   "cell_type": "code",
   "execution_count": 5,
   "id": "935b9895",
   "metadata": {},
   "outputs": [
    {
     "name": "stderr",
     "output_type": "stream",
     "text": [
      "2023-02-08 17:32:12,464\tINFO worker.py:1518 -- Started a local Ray instance.\n",
      "100%|████████████████████████████████████████████████████████████████████████████████████████████████████████████████████████████████████████████████████████████████████| 100/100 [00:00<00:00, 110.42it/s]\n"
     ]
    }
   ],
   "source": [
    "featurizer2 = GMPFeaturizer(GMPs=GMPs, calc_derivatives=True)\n",
    "features2 = featurizer2.prepare_features(images, cores=5) "
   ]
  },
  {
   "cell_type": "code",
   "execution_count": 6,
   "id": "9ff2823c",
   "metadata": {},
   "outputs": [
    {
     "name": "stdout",
     "output_type": "stream",
     "text": [
      "dict_keys(['features', 'feature_primes'])\n",
      "dict_keys(['size', 'row', 'col', 'val'])\n"
     ]
    }
   ],
   "source": [
    "print(features2[0].keys())\n",
    "print(features2[0][\"feature_primes\"].keys())"
   ]
  },
  {
   "cell_type": "markdown",
   "id": "978effab",
   "metadata": {},
   "source": [
    "### Manually specify the list of features (not using the Cartesian product)"
   ]
  },
  {
   "cell_type": "code",
   "execution_count": 7,
   "id": "5dadf57f",
   "metadata": {},
   "outputs": [],
   "source": [
    "GMPs_2 = {\n",
    "    \"GMPs_detailed_list\": [(-1,0), (0, 0.1), (0, 0.2), (0, 0.3), (1, 0.2), (1, 0.3), (2, 0.3)],\n",
    "    \"psp_path\": \"./NC-SR.gpsp\", # path to the pseudo potential file\n",
    "    \"overlap_threshold\": 1e-16, # basically the accuracy of the resulting features\n",
    "    # \"square\": False, # whether the features are squared, no need to change if you are not get the feature derivatives\n",
    "}"
   ]
  },
  {
   "cell_type": "code",
   "execution_count": 8,
   "id": "fc3da229",
   "metadata": {},
   "outputs": [
    {
     "name": "stderr",
     "output_type": "stream",
     "text": [
      "2023-02-08 17:39:15,361\tINFO worker.py:1518 -- Started a local Ray instance.\n",
      "100%|████████████████████████████████████████████████████████████████████████████████████████████████████████████████████████████████████████████████████████████████████| 100/100 [00:00<00:00, 129.94it/s]\n"
     ]
    }
   ],
   "source": [
    "featurizer3 = GMPFeaturizer(GMPs=GMPs_2, calc_derivatives=True)\n",
    "features3 = featurizer3.prepare_features(images, cores=5) "
   ]
  },
  {
   "cell_type": "code",
   "execution_count": null,
   "id": "08455adc",
   "metadata": {},
   "outputs": [],
   "source": []
  }
 ],
 "metadata": {
  "kernelspec": {
   "display_name": "Python 3 (ipykernel)",
   "language": "python",
   "name": "python3"
  },
  "language_info": {
   "codemirror_mode": {
    "name": "ipython",
    "version": 3
   },
   "file_extension": ".py",
   "mimetype": "text/x-python",
   "name": "python",
   "nbconvert_exporter": "python",
   "pygments_lexer": "ipython3",
   "version": "3.8.13"
  }
 },
 "nbformat": 4,
 "nbformat_minor": 5
}
