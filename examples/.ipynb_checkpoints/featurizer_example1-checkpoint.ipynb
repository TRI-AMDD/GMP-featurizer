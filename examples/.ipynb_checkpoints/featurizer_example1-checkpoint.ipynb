{
 "cells": [
  {
   "cell_type": "code",
   "execution_count": 1,
   "id": "79db481d",
   "metadata": {},
   "outputs": [],
   "source": [
    "import numpy as np\n",
    "from GMPFeaturizer import GMPFeaturizer\n",
    "import pickle\n",
    "with open(\"./example.p\", \"rb\") as f:\n",
    "    images = pickle.load(f)"
   ]
  },
  {
   "cell_type": "code",
   "execution_count": 2,
   "id": "dafdc856",
   "metadata": {},
   "outputs": [
    {
     "name": "stdout",
     "output_type": "stream",
     "text": [
      "[0.2 0.4 0.6 0.8 1. ]\n"
     ]
    }
   ],
   "source": [
    "#GMP hyperparameters\n",
    "GMP_order = 3\n",
    "nsigmas = 5\n",
    "width = 1.0\n",
    "\n",
    "\n",
    "# setup featurizer/calcualtor \n",
    "sigmas = np.round(np.linspace(0.0,width,nsigmas+1,endpoint=True),4)[1:]\n",
    "print(sigmas)\n",
    "GMPs = {\n",
    "    \"GMPs\": {   \"orders\": [-1]+list(range(GMP_order+1)), \"sigmas\":sigmas   },\n",
    "    \"psp_path\": \"/home/raylei/Documents/GMP-featurizer/pseudopotentials/NC-SR.gpsp\",\n",
    "    \"square\":False,\n",
    "    \"solid_harmonics\": True,\n",
    "}"
   ]
  },
  {
   "cell_type": "code",
   "execution_count": 3,
   "id": "cae05991",
   "metadata": {},
   "outputs": [],
   "source": [
    "featurizer = GMPFeaturizer(GMPs=GMPs, elements=[\"H\"])"
   ]
  },
  {
   "cell_type": "code",
   "execution_count": null,
   "id": "25c28809",
   "metadata": {},
   "outputs": [],
   "source": []
  }
 ],
 "metadata": {
  "kernelspec": {
   "display_name": "Python 3 (ipykernel)",
   "language": "python",
   "name": "python3"
  },
  "language_info": {
   "codemirror_mode": {
    "name": "ipython",
    "version": 3
   },
   "file_extension": ".py",
   "mimetype": "text/x-python",
   "name": "python",
   "nbconvert_exporter": "python",
   "pygments_lexer": "ipython3",
   "version": "3.8.13"
  }
 },
 "nbformat": 4,
 "nbformat_minor": 5
}
