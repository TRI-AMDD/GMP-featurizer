{
 "cells": [
  {
   "cell_type": "markdown",
   "id": "19106548",
   "metadata": {},
   "source": [
    "## Overview\n",
    "\n",
    "The task here is featuring the atoms of molecules in the QM9 dataset (we only considered the first 2000 molecules to limit the scope), and train a simple ML model the reported Mulliken charge using linear regression. \n",
    "\n",
    "* Mulliken charge is a quantity computed for each atom in a molecule"
   ]
  },
  {
   "cell_type": "markdown",
   "id": "c6886fd1",
   "metadata": {},
   "source": [
    "## Load Data"
   ]
  },
  {
   "cell_type": "code",
   "execution_count": 1,
   "id": "e03d4189",
   "metadata": {},
   "outputs": [],
   "source": [
    "import numpy as np\n",
    "from GMPFeaturizer import GMPFeaturizer, ASEAtomsConverter, PymatgenStructureConverter\n",
    "import pickle\n",
    "\n",
    "with open('QM9_charge.p', 'rb') as handle:\n",
    "    partial_charge_data = pickle.load(handle)\n",
    "    \n",
    "systems = [entry[\"system\"] for entry in partial_charge_data]\n",
    "charges = [entry[\"charges\"] for entry in partial_charge_data]"
   ]
  },
  {
   "cell_type": "markdown",
   "id": "ee999827",
   "metadata": {},
   "source": [
    "## Compute features"
   ]
  },
  {
   "cell_type": "code",
   "execution_count": 2,
   "id": "669aba63",
   "metadata": {},
   "outputs": [],
   "source": [
    "GMPs = {\n",
    "    \"GMPs\": {   \n",
    "        \"orders\": [-1, 0, 1, 2, 3], \n",
    "        \"sigmas\": [0.1, 0.2, 0.3, 0.4, 0.5]   \n",
    "    },\n",
    "    \"psp_path\": \"./NC-SR.gpsp\", # path to the pseudo potential file\n",
    "    \"overlap_threshold\": 1e-16, # basically the accuracy of the resulting features\n",
    "    # \"square\": False, # whether the features are squared, no need to change if you are not get the feature derivatives\n",
    "}\n",
    "\n",
    "converter = ASEAtomsConverter()"
   ]
  },
  {
   "cell_type": "code",
   "execution_count": 3,
   "id": "0f838080",
   "metadata": {},
   "outputs": [
    {
     "name": "stderr",
     "output_type": "stream",
     "text": [
      "2023-06-07 11:11:03,519\tINFO worker.py:1518 -- Started a local Ray instance.\n",
      "100%|██████████████████████████████████████| 2000/2000 [00:02<00:00, 988.85it/s]\n"
     ]
    }
   ],
   "source": [
    "featurizer = GMPFeaturizer(GMPs=GMPs, calc_derivatives=False)\n",
    "features = featurizer.prepare_features(systems, cores=5, converter=converter)"
   ]
  },
  {
   "cell_type": "markdown",
   "id": "099dbc6b",
   "metadata": {},
   "source": [
    "## Prepare data for the  model"
   ]
  },
  {
   "cell_type": "code",
   "execution_count": 4,
   "id": "87ddc2e5",
   "metadata": {},
   "outputs": [],
   "source": [
    "X_list = [entry[\"features\"] for entry in features]\n",
    "X = np.vstack(X_list)\n",
    "y = np.concatenate(charges)"
   ]
  },
  {
   "cell_type": "markdown",
   "id": "eb1e353c",
   "metadata": {},
   "source": [
    "## Train the regression model and print the score"
   ]
  },
  {
   "cell_type": "code",
   "execution_count": 5,
   "id": "8bdd1bd9",
   "metadata": {},
   "outputs": [],
   "source": [
    "# !pip install scikit-learn"
   ]
  },
  {
   "cell_type": "code",
   "execution_count": 6,
   "id": "10d5cb21",
   "metadata": {},
   "outputs": [
    {
     "data": {
      "text/plain": [
       "0.9487785353138086"
      ]
     },
     "execution_count": 6,
     "metadata": {},
     "output_type": "execute_result"
    }
   ],
   "source": [
    "\n",
    "from sklearn.linear_model import LinearRegression\n",
    "reg = LinearRegression().fit(X, y)\n",
    "reg.score(X, y)"
   ]
  },
  {
   "cell_type": "code",
   "execution_count": null,
   "id": "ec4ee2b1",
   "metadata": {},
   "outputs": [],
   "source": []
  }
 ],
 "metadata": {
  "kernelspec": {
   "display_name": "Python 3 (ipykernel)",
   "language": "python",
   "name": "python3"
  },
  "language_info": {
   "codemirror_mode": {
    "name": "ipython",
    "version": 3
   },
   "file_extension": ".py",
   "mimetype": "text/x-python",
   "name": "python",
   "nbconvert_exporter": "python",
   "pygments_lexer": "ipython3",
   "version": "3.8.13"
  }
 },
 "nbformat": 4,
 "nbformat_minor": 5
}
